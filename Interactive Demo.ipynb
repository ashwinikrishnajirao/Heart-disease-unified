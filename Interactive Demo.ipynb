{
 "cells": [
  {
   "cell_type": "markdown",
   "id": "ee960b60",
   "metadata": {},
   "source": [
    "# <h1><center>Heart Disease Detector</center></h1>"
   ]
  },
  {
   "cell_type": "markdown",
   "id": "045403a1",
   "metadata": {},
   "source": [
    "## Imports"
   ]
  },
  {
   "cell_type": "code",
   "execution_count": 11,
   "id": "d77675b8",
   "metadata": {},
   "outputs": [],
   "source": [
    "import joblib\n",
    "import numpy as np\n",
    "from IPython.display import display, HTML\n",
    "import warnings\n",
    "warnings.simplefilter(action='ignore', category=UserWarning)\n"
   ]
  },
  {
   "cell_type": "markdown",
   "id": "35930165",
   "metadata": {},
   "source": [
    "## Load the saved model and scaler "
   ]
  },
  {
   "cell_type": "code",
   "execution_count": 2,
   "id": "4b12281c",
   "metadata": {},
   "outputs": [],
   "source": [
    "model = joblib.load(\"heart_disease_model.pkl\")\n",
    "scaler = joblib.load(\"scaler.pkl\")"
   ]
  },
  {
   "cell_type": "markdown",
   "id": "054ebae2",
   "metadata": {},
   "source": [
    "## Function to get valid user input"
   ]
  },
  {
   "cell_type": "code",
   "execution_count": 3,
   "id": "1607c26e",
   "metadata": {},
   "outputs": [],
   "source": [
    "def get_input(prompt, valid_type, valid_values=None):\n",
    "    while True:\n",
    "        try:\n",
    "            value = valid_type(input(prompt).strip())\n",
    "            if valid_values and value not in valid_values:\n",
    "                raise ValueError\n",
    "            return value\n",
    "        except ValueError:\n",
    "            print(\"Invalid input. Please enter the correct values.\")"
   ]
  },
  {
   "cell_type": "markdown",
   "id": "94a81698",
   "metadata": {},
   "source": [
    "## Print Function"
   ]
  },
  {
   "cell_type": "code",
   "execution_count": 15,
   "id": "fe6207ff",
   "metadata": {},
   "outputs": [],
   "source": [
    "def centered(content):\n",
    "    display(HTML(f\"<h1><div style='text-align:center'>{content}</div></h1>\"))"
   ]
  },
  {
   "cell_type": "markdown",
   "id": "a022af3c",
   "metadata": {},
   "source": [
    "# <h1><center>Interactive Demo!</center></h1>."
   ]
  },
  {
   "cell_type": "code",
   "execution_count": 16,
   "id": "5f50793a",
   "metadata": {},
   "outputs": [
    {
     "data": {
      "text/html": [
       "<h1><div style='text-align:center'>Enter Your Details</div></h1>"
      ],
      "text/plain": [
       "<IPython.core.display.HTML object>"
      ]
     },
     "metadata": {},
     "output_type": "display_data"
    },
    {
     "name": "stdout",
     "output_type": "stream",
     "text": [
      "Enter age: 33\n",
      "Enter sex (0 = Female, 1 = Male): 1\n",
      "Enter chest pain type (1-typical angina, 2-atypical angina, 3-non-anginal pain, 4-asymptomatic): 1\n",
      "Enter resting blood pressure (mmHg): 140\n",
      "Enter serum cholesterol (mg/dl): 289\n",
      "Enter fasting blood sugar (0 = <120 mg/dL, 1 = >120 mg/dL): 0\n",
      "Enter resting ECG (0-normal, 1-ST-T wave abnormality, 2-left ventricular hypertrophy): 0\n",
      "Enter maximum heart rate achieved: 172\n",
      "Enter exercise-induced angina (0 = No, 1 = Yes): 0\n",
      "Enter ST depression induced by exercise: 0\n",
      "Enter ST slope (1-upward, 2-flat, 3-downward): 1\n"
     ]
    },
    {
     "data": {
      "text/html": [
       "<h1><div style='text-align:center'>The model predicts that the patient does NOT have heart disease.</div></h1>"
      ],
      "text/plain": [
       "<IPython.core.display.HTML object>"
      ]
     },
     "metadata": {},
     "output_type": "display_data"
    }
   ],
   "source": [
    "# Get user input\n",
    "centered(\"Enter Your Details\")\n",
    "age = get_input(\"Enter age: \", int)\n",
    "sex = get_input(\"Enter sex (0 = Female, 1 = Male): \", int, [0, 1])\n",
    "chest_pain_type = get_input(\"Enter chest pain type (1-typical angina, 2-atypical angina, 3-non-anginal pain, 4-asymptomatic): \", int, [1, 2, 3, 4])\n",
    "resting_bps = get_input(\"Enter resting blood pressure (mmHg): \", int)\n",
    "cholesterol = get_input(\"Enter serum cholesterol (mg/dl): \", int)\n",
    "fasting_blood_sugar = get_input(\"Enter fasting blood sugar (0 = <120 mg/dL, 1 = >120 mg/dL): \", int, [0, 1])\n",
    "resting_ecg = get_input(\"Enter resting ECG (0-normal, 1-ST-T wave abnormality, 2-left ventricular hypertrophy): \", int, [0, 1, 2])\n",
    "max_heart_rate = get_input(\"Enter maximum heart rate achieved: \", int)\n",
    "exercise_angina = get_input(\"Enter exercise-induced angina (0 = No, 1 = Yes): \", int, [0, 1])\n",
    "oldpeak = get_input(\"Enter ST depression induced by exercise: \", float)\n",
    "st_slope = get_input(\"Enter ST slope (1-upward, 2-flat, 3-downward): \", int, [1, 2, 3])\n",
    "\n",
    "#Process User Input\n",
    "\n",
    "# Manually encode chest paintype, restingecg, and stslope while handling the dropped category\n",
    "chest_pain_encoded = [0, 0, 0, 0]  # Default vector of 4 \n",
    "if chest_pain_type > 1:  \n",
    "    chest_pain_encoded[chest_pain_type - 2] = 1  # Adjust index to match encoding\n",
    "\n",
    "resting_ecg_encoded = [0, 0]  # Default vector of 2 (since first category is dropped)\n",
    "if resting_ecg > 0:\n",
    "    resting_ecg_encoded[resting_ecg - 1] = 1\n",
    "\n",
    "st_slope_encoded = [0, 0]  # Default vector of 2 (since first category is dropped)\n",
    "if st_slope > 1:\n",
    "    st_slope_encoded[st_slope - 2] = 1\n",
    "\n",
    "# Combine all features correctly (ensuring 15 features to match training data)\n",
    "user_data = np.array([[age, resting_bps, cholesterol, max_heart_rate, oldpeak, \n",
    "                        sex, fasting_blood_sugar, exercise_angina] + \n",
    "                        chest_pain_encoded + resting_ecg_encoded + st_slope_encoded])\n",
    "\n",
    "# Transform with StandardScaler\n",
    "user_data_scaled = scaler.transform(user_data)  \n",
    "\n",
    "\n",
    "# Make prediction\n",
    "\n",
    "prediction = model.predict(user_data_scaled)\n",
    "\n",
    "# Output result\n",
    "if prediction[0] == 1:\n",
    "    centered(\"The model predicts that the patient has heart disease.\")\n",
    "else:\n",
    "    centered(\"The model predicts that the patient does NOT have heart disease.\")"
   ]
  },
  {
   "cell_type": "markdown",
   "id": "761c977c",
   "metadata": {},
   "source": [
    "### Sample data\n",
    "\n",
    "#### patient without heart disease\n",
    " 29,1,2,120,243,0,0,160,0,0.0,1,0\n",
    "\n",
    "#### patient with heart disease\n",
    " 40,1,2,140,289,0,0,172,0,0.0,1,1"
   ]
  }
 ],
 "metadata": {
  "kernelspec": {
   "display_name": "Python 3 (ipykernel)",
   "language": "python",
   "name": "python3"
  },
  "language_info": {
   "codemirror_mode": {
    "name": "ipython",
    "version": 3
   },
   "file_extension": ".py",
   "mimetype": "text/x-python",
   "name": "python",
   "nbconvert_exporter": "python",
   "pygments_lexer": "ipython3",
   "version": "3.11.5"
  }
 },
 "nbformat": 4,
 "nbformat_minor": 5
}
